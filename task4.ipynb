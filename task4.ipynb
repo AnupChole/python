{
 "cells": [
  {
   "cell_type": "markdown",
   "metadata": {},
   "source": [
    "# Task 4"
   ]
  },
  {
   "cell_type": "markdown",
   "metadata": {},
   "source": [
    "### task is to create 3 function\n",
    "* add,mul,mul,div\n",
    "* if greater than (value,cheakvalue) (50,100)\n",
    "* return of any of the above\n"
   ]
  },
  {
   "cell_type": "markdown",
   "metadata": {},
   "source": [
    " ## Arithmatic Operation Function"
   ]
  },
  {
   "cell_type": "code",
   "execution_count": 6,
   "metadata": {},
   "outputs": [
    {
     "name": "stdout",
     "output_type": "stream",
     "text": [
      "p1=5,p2=10,p3=15\n",
      "5+10+15=30\n",
      "this is add of 5,10 and 15 and result is 30\n"
     ]
    }
   ],
   "source": [
    "def addval (p1,p2,p3):\n",
    "    result = p1+p2+p3\n",
    "    print(f'p1={p1},p2={p2},p3={p3}')\n",
    "    print(f'{p1}+{p2}+{p3}={result}')\n",
    "    print(f'this is add of {p1},{p2} and {p3} and result is {result}')\n",
    "\n",
    "addval(5,10,15)"
   ]
  },
  {
   "cell_type": "code",
   "execution_count": null,
   "metadata": {},
   "outputs": [],
   "source": []
  },
  {
   "cell_type": "code",
   "execution_count": 13,
   "metadata": {},
   "outputs": [
    {
     "name": "stdout",
     "output_type": "stream",
     "text": [
      "p1=10,p2=20,p3=30\n",
      "10-20-30 =-40\n",
      "this is sub of 10,20 and 30 result is -40\n"
     ]
    }
   ],
   "source": [
    "def subval(p1,p2,p3):\n",
    "    result = p1-p2-p3\n",
    "    print (f'p1={p1},p2={p2},p3={p3}')\n",
    "    print (f'{p1}-{p2}-{p3} ={result}')\n",
    "    print (f'this is sub of {p1},{p2} and {p3} result is {result}')\n",
    "\n",
    "subval(10,20,30)"
   ]
  },
  {
   "cell_type": "code",
   "execution_count": null,
   "metadata": {},
   "outputs": [],
   "source": []
  },
  {
   "cell_type": "code",
   "execution_count": 17,
   "metadata": {},
   "outputs": [
    {
     "name": "stdout",
     "output_type": "stream",
     "text": [
      "p1=15,p2=25,p3=35\n",
      "15*25*35 =13125\n",
      "this is mul of 15,25 and 35 result is 13125\n"
     ]
    }
   ],
   "source": [
    "def mulval(p1,p2,p3):\n",
    "    result = p1*p2*p3\n",
    "    print (f'p1={p1},p2={p2},p3={p3}')\n",
    "    print (f'{p1}*{p2}*{p3} ={result}')\n",
    "    print (f'this is mul of {p1},{p2} and {p3} result is {result}')\n",
    "\n",
    "mulval(15,25,35)"
   ]
  },
  {
   "cell_type": "code",
   "execution_count": null,
   "metadata": {},
   "outputs": [],
   "source": []
  },
  {
   "cell_type": "code",
   "execution_count": 20,
   "metadata": {},
   "outputs": [
    {
     "name": "stdout",
     "output_type": "stream",
     "text": [
      "p1=50,p2=100,p3=150\n",
      "50/100/150 =0.0033333333333333335\n",
      "this is div of 50,100 and 150 result is 0.0033333333333333335\n"
     ]
    }
   ],
   "source": [
    "def divval(p1,p2,p3):\n",
    "    result = p1/p2/p3\n",
    "    print (f'p1={p1},p2={p2},p3={p3}')\n",
    "    print (f'{p1}/{p2}/{p3} ={result}')\n",
    "    print (f'this is div of {p1},{p2} and {p3} result is {result}')\n",
    "\n",
    "divval(50,100,150)"
   ]
  },
  {
   "cell_type": "markdown",
   "metadata": {},
   "source": [
    "## Comparision function"
   ]
  },
  {
   "cell_type": "code",
   "execution_count": 6,
   "metadata": {},
   "outputs": [
    {
     "name": "stdout",
     "output_type": "stream",
     "text": [
      "p1=10,p2=20\n",
      "10 > 20 = False\n",
      "p1=77,p2=66\n",
      "77 > 66 = True\n"
     ]
    }
   ],
   "source": [
    "def  compa(p1,p2):\n",
    "     result = p1>p2\n",
    "     print(f'p1={p1},p2={p2}')\n",
    "     print(f'{p1} > {p2} = {result}')\n",
    "\n",
    "     \n",
    "compa(10,20)\n",
    "\n",
    "compa(77,66)\n"
   ]
  },
  {
   "cell_type": "markdown",
   "metadata": {},
   "source": [
    "## Return Function"
   ]
  },
  {
   "cell_type": "code",
   "execution_count": 19,
   "metadata": {},
   "outputs": [
    {
     "name": "stdout",
     "output_type": "stream",
     "text": [
      "p1/p2 ,10/5= 2.0\n",
      "output 2.0\n"
     ]
    }
   ],
   "source": [
    "def div(p1,p2):\n",
    "    result = p1/p2\n",
    "    print(f'p1/p2 ,{p1}/{p2}= {result}')\n",
    "    return result\n",
    "\n",
    "output = div(10,5)\n",
    "print(f'output {output}')\n",
    "\n",
    "\n"
   ]
  },
  {
   "cell_type": "code",
   "execution_count": null,
   "metadata": {},
   "outputs": [],
   "source": []
  },
  {
   "cell_type": "code",
   "execution_count": 28,
   "metadata": {},
   "outputs": [
    {
     "name": "stdout",
     "output_type": "stream",
     "text": [
      "p1 > p2,50 > 100 = False\n",
      "output False\n"
     ]
    }
   ],
   "source": [
    "def compare(p1,p2):\n",
    "    result = p1>p2\n",
    "    print(f'p1 > p2,{p1} > {p2} = {result}')\n",
    "    return  result\n",
    "\n",
    "output= compare (50,100)\n",
    "print(f'output {output}')\n"
   ]
  }
 ],
 "metadata": {
  "kernelspec": {
   "display_name": "Python 3",
   "language": "python",
   "name": "python3"
  },
  "language_info": {
   "codemirror_mode": {
    "name": "ipython",
    "version": 3
   },
   "file_extension": ".py",
   "mimetype": "text/x-python",
   "name": "python",
   "nbconvert_exporter": "python",
   "pygments_lexer": "ipython3",
   "version": "3.12.4"
  }
 },
 "nbformat": 4,
 "nbformat_minor": 2
}
