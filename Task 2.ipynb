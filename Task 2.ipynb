{
 "cells": [
  {
   "cell_type": "markdown",
   "id": "d8deb4f4-3e6f-4cf2-b2b2-2634ee0cc34a",
   "metadata": {},
   "source": [
    "# append()"
   ]
  },
  {
   "cell_type": "code",
   "execution_count": 13,
   "id": "eacf6d76-f87a-4170-870d-802ed119f224",
   "metadata": {},
   "outputs": [
    {
     "name": "stdout",
     "output_type": "stream",
     "text": [
      "['jarsi', 'murha', 'gir']\n"
     ]
    }
   ],
   "source": [
    "Cow = ['jarsi','murha','gir']\n",
    "print (Cow)"
   ]
  },
  {
   "cell_type": "code",
   "execution_count": 19,
   "id": "906a3ae0-c9f2-4fee-b321-f2d7286aa8a8",
   "metadata": {},
   "outputs": [
    {
     "data": {
      "text/plain": [
       "['jarsi', 'murha', 'gir', 'deshi', 'deshi']"
      ]
     },
     "execution_count": 19,
     "metadata": {},
     "output_type": "execute_result"
    }
   ],
   "source": [
    "Cow.append('deshi')\n",
    "print(Cow)"
   ]
  },
  {
   "cell_type": "markdown",
   "id": "fa24be0c-d34e-44a4-bfb4-798898e60a6f",
   "metadata": {},
   "source": [
    "# clear()"
   ]
  },
  {
   "cell_type": "code",
   "execution_count": 24,
   "id": "b2d69a27-d0a3-46c4-bc73-cb0a0e0892cc",
   "metadata": {},
   "outputs": [
    {
     "name": "stdout",
     "output_type": "stream",
     "text": [
      "home=['door', 'bed', 'sofa', 'fan']\n"
     ]
    }
   ],
   "source": [
    "home = ['door','bed','sofa','fan']\n",
    "print (f'home={home}')"
   ]
  },
  {
   "cell_type": "code",
   "execution_count": 28,
   "id": "104bf4ff-5b8f-4dec-9c1f-e9b2e4fc3d98",
   "metadata": {},
   "outputs": [
    {
     "data": {
      "text/plain": [
       "[]"
      ]
     },
     "execution_count": 28,
     "metadata": {},
     "output_type": "execute_result"
    }
   ],
   "source": [
    "home.clear()\n",
    "print (home)"
   ]
  },
  {
   "cell_type": "markdown",
   "id": "968e3d22-eebc-49ae-9b9a-610e760694a4",
   "metadata": {},
   "source": [
    "# copy()"
   ]
  },
  {
   "cell_type": "code",
   "execution_count": 51,
   "id": "b1e271eb-70da-451a-936c-8502d4d68998",
   "metadata": {},
   "outputs": [
    {
     "name": "stdout",
     "output_type": "stream",
     "text": [
      "['data analytics', 'full stack', 'digital marketing']\n"
     ]
    }
   ],
   "source": [
    "arc = ['data analytics','full stack','digital marketing']\n",
    "print (arc)"
   ]
  },
  {
   "cell_type": "code",
   "execution_count": 55,
   "id": "5e982bd9-52b5-4717-b832-718ef63012c5",
   "metadata": {},
   "outputs": [
    {
     "name": "stdout",
     "output_type": "stream",
     "text": [
      "['data analytics', 'full stack', 'digital marketing']\n"
     ]
    }
   ],
   "source": [
    "newarc = arc.copy()\n",
    "print (newarc)"
   ]
  },
  {
   "cell_type": "code",
   "execution_count": null,
   "id": "09138732-fea8-4ddf-80d7-9ddf73683cd0",
   "metadata": {},
   "outputs": [],
   "source": []
  },
  {
   "cell_type": "markdown",
   "id": "0e5726d1-52aa-4cf6-ad96-8ee8d46532b2",
   "metadata": {},
   "source": [
    "# count()"
   ]
  },
  {
   "cell_type": "code",
   "execution_count": 76,
   "id": "143124aa-747c-446c-bb1e-27c7006139b3",
   "metadata": {},
   "outputs": [
    {
     "name": "stdout",
     "output_type": "stream",
     "text": [
      "fan = ['capacitor', 'blade', 'motor', 'wire', 'capacitor']\n"
     ]
    }
   ],
   "source": [
    "fan = ['capacitor','blade','motor','wire','capacitor']\n",
    "print (f'fan = {fan}')"
   ]
  },
  {
   "cell_type": "code",
   "execution_count": 78,
   "id": "0806a7c7-37da-4c12-af4f-de8f0213c93f",
   "metadata": {},
   "outputs": [
    {
     "name": "stdout",
     "output_type": "stream",
     "text": [
      "2\n"
     ]
    }
   ],
   "source": [
    "cooler=fan.count('capacitor')\n",
    "print (cooler)"
   ]
  },
  {
   "cell_type": "code",
   "execution_count": null,
   "id": "fd1663b4-23c5-4857-9231-79eb252c33c8",
   "metadata": {},
   "outputs": [],
   "source": []
  },
  {
   "cell_type": "markdown",
   "id": "c85ed479-0919-451b-b837-f2559629fe3b",
   "metadata": {},
   "source": [
    "# extend()"
   ]
  },
  {
   "cell_type": "code",
   "execution_count": 87,
   "id": "b016a63f-1399-4611-a494-696f0b4d5f17",
   "metadata": {},
   "outputs": [
    {
     "name": "stdout",
     "output_type": "stream",
     "text": [
      "state=['maharashtra', 'goa', 'up', 'bihar']\n",
      "ut=['ladakh', 'sikkim', 'manipur']\n"
     ]
    }
   ],
   "source": [
    "state = ['maharashtra','goa','up','bihar']\n",
    "ut = ['ladakh','sikkim','manipur']\n",
    "print (f'state={state}')\n",
    "print (f'ut={ut}')"
   ]
  },
  {
   "cell_type": "code",
   "execution_count": 91,
   "id": "7908ed90-10e5-42ba-a558-3dd54f4da1d9",
   "metadata": {},
   "outputs": [
    {
     "name": "stdout",
     "output_type": "stream",
     "text": [
      "['maharashtra', 'goa', 'up', 'bihar', 'ladakh', 'sikkim', 'manipur', 'ladakh', 'sikkim', 'manipur']\n"
     ]
    }
   ],
   "source": [
    "state.extend(ut)\n",
    "print(state)"
   ]
  },
  {
   "cell_type": "code",
   "execution_count": 93,
   "id": "4b2087c8-3c21-4b0c-bc50-17af84cd6b3b",
   "metadata": {},
   "outputs": [
    {
     "name": "stdout",
     "output_type": "stream",
     "text": [
      "['ladakh', 'sikkim', 'manipur', 'maharashtra', 'goa', 'up', 'bihar', 'ladakh', 'sikkim', 'manipur', 'ladakh', 'sikkim', 'manipur']\n"
     ]
    }
   ],
   "source": [
    "ut.extend(state)\n",
    "print (ut)"
   ]
  },
  {
   "cell_type": "markdown",
   "id": "a7bc1927-f808-47fd-8211-ed400bf4409e",
   "metadata": {},
   "source": [
    "# index()"
   ]
  },
  {
   "cell_type": "code",
   "execution_count": 99,
   "id": "6486f773-ee74-4e00-ae21-9c86274a3f7d",
   "metadata": {},
   "outputs": [
    {
     "name": "stdout",
     "output_type": "stream",
     "text": [
      "['jarsi', 'gir', 'haryani']\n"
     ]
    }
   ],
   "source": [
    "cow = ['jarsi','gir','haryani']\n",
    "print (cow)"
   ]
  },
  {
   "cell_type": "code",
   "execution_count": 115,
   "id": "2c105156-2a12-47f9-8efc-ac8757a7ac7e",
   "metadata": {},
   "outputs": [
    {
     "name": "stdout",
     "output_type": "stream",
     "text": [
      "2\n"
     ]
    }
   ],
   "source": [
    "milk = cow.index('haryani')\n",
    "print (milk)"
   ]
  },
  {
   "cell_type": "markdown",
   "id": "cf433d4c-13ca-4505-bf14-4e1fe07cbaaf",
   "metadata": {},
   "source": [
    "# insert() "
   ]
  },
  {
   "cell_type": "markdown",
   "id": "17778163-2141-4d8d-ba92-a4addc7be3a8",
   "metadata": {},
   "source": [
    "fruits = ['apple', 'banana', 'cherry']\n",
    "print (fruits)"
   ]
  },
  {
   "cell_type": "code",
   "execution_count": 145,
   "id": "c0299d4f-03d9-4789-8bcc-77755b952a04",
   "metadata": {},
   "outputs": [
    {
     "data": {
      "text/plain": [
       "['apple', 'banana', 'chikku', 'chikku', 'cherry']"
      ]
     },
     "execution_count": 145,
     "metadata": {},
     "output_type": "execute_result"
    }
   ],
   "source": [
    "fruits.insert(2,'chikku')\n",
    "fruits"
   ]
  },
  {
   "cell_type": "code",
   "execution_count": null,
   "id": "e3f94bc2-c5a2-4ac6-bfb3-c457e0f8e45f",
   "metadata": {},
   "outputs": [],
   "source": []
  },
  {
   "cell_type": "markdown",
   "id": "5442ab15-7312-4b47-af56-fc2cd47a4d26",
   "metadata": {},
   "source": [
    "# pop()"
   ]
  },
  {
   "cell_type": "code",
   "execution_count": 152,
   "id": "35343bc7-1554-4384-b324-122960c1ebb7",
   "metadata": {},
   "outputs": [
    {
     "data": {
      "text/plain": [
       "['da1', 'da2', 'da3', 'da6']"
      ]
     },
     "execution_count": 152,
     "metadata": {},
     "output_type": "execute_result"
    }
   ],
   "source": [
    "batch = ['da1','da2','da3','da6']\n",
    "batch"
   ]
  },
  {
   "cell_type": "code",
   "execution_count": 160,
   "id": "e4870c7b-3de2-452e-a995-322c6779535b",
   "metadata": {},
   "outputs": [
    {
     "data": {
      "text/plain": [
       "['da1', 'da2', 'da6']"
      ]
     },
     "execution_count": 160,
     "metadata": {},
     "output_type": "execute_result"
    }
   ],
   "source": [
    "batch.pop(2)\n",
    "batch"
   ]
  },
  {
   "cell_type": "markdown",
   "id": "519b1de1-f36a-4de1-9b06-8dc40e2540b4",
   "metadata": {},
   "source": [
    "# remove()"
   ]
  },
  {
   "cell_type": "code",
   "execution_count": 174,
   "id": "99ba50be-c67c-4506-bef4-488326d72337",
   "metadata": {},
   "outputs": [
    {
     "data": {
      "text/plain": [
       "['apple', 'banana', 'cherry', 'chikku']"
      ]
     },
     "execution_count": 174,
     "metadata": {},
     "output_type": "execute_result"
    }
   ],
   "source": [
    "fruits = ['apple', 'banana', 'cherry','chikku']\n",
    "fruits"
   ]
  },
  {
   "cell_type": "code",
   "execution_count": 176,
   "id": "09b2ee4d-15c3-4991-bd9c-28fa9d3bd944",
   "metadata": {},
   "outputs": [
    {
     "data": {
      "text/plain": [
       "['apple', 'cherry', 'chikku']"
      ]
     },
     "execution_count": 176,
     "metadata": {},
     "output_type": "execute_result"
    }
   ],
   "source": [
    "fruits.remove('banana')\n",
    "fruits"
   ]
  },
  {
   "cell_type": "code",
   "execution_count": null,
   "id": "71ba04ff-5d80-4c39-8f3d-e92ca7ad4619",
   "metadata": {},
   "outputs": [],
   "source": []
  },
  {
   "cell_type": "markdown",
   "id": "b8ce6854-24db-4339-8651-94fc84434396",
   "metadata": {},
   "source": [
    "# reverse()"
   ]
  },
  {
   "cell_type": "code",
   "execution_count": 179,
   "id": "a9915b29-3a86-4a14-89e8-5373837d28db",
   "metadata": {},
   "outputs": [
    {
     "data": {
      "text/plain": [
       "[55, 45, 85, 65, 25, 33, 45, 210]"
      ]
     },
     "execution_count": 179,
     "metadata": {},
     "output_type": "execute_result"
    }
   ],
   "source": [
    "val = [55,45,85,65,25,33,45,210]\n",
    "val"
   ]
  },
  {
   "cell_type": "code",
   "execution_count": 183,
   "id": "d023551c-d040-47f8-933d-386f0d2bbf18",
   "metadata": {},
   "outputs": [
    {
     "data": {
      "text/plain": [
       "[55, 45, 85, 65, 25, 33, 45, 210]"
      ]
     },
     "execution_count": 183,
     "metadata": {},
     "output_type": "execute_result"
    }
   ],
   "source": [
    "val.reverse()\n",
    "val"
   ]
  },
  {
   "cell_type": "code",
   "execution_count": null,
   "id": "1548ca0f-9f2b-47aa-9695-b68d033a1ca4",
   "metadata": {},
   "outputs": [],
   "source": []
  },
  {
   "cell_type": "markdown",
   "id": "f5fc6f73-2b47-41af-9e82-7a6940dd95d0",
   "metadata": {},
   "source": [
    "# sort()"
   ]
  },
  {
   "cell_type": "code",
   "execution_count": 202,
   "id": "fde41f55-316c-4eea-9179-c7f328516443",
   "metadata": {},
   "outputs": [
    {
     "data": {
      "text/plain": [
       "['a1', 'a4', 'a7', 'a3', 'a2']"
      ]
     },
     "execution_count": 202,
     "metadata": {},
     "output_type": "execute_result"
    }
   ],
   "source": [
    "name = ['a1','a4','a7','a3','a2']\n",
    "name"
   ]
  },
  {
   "cell_type": "code",
   "execution_count": 204,
   "id": "18505057-3716-417d-9b71-c5ae27d99818",
   "metadata": {},
   "outputs": [
    {
     "data": {
      "text/plain": [
       "['a1', 'a2', 'a3', 'a4', 'a7']"
      ]
     },
     "execution_count": 204,
     "metadata": {},
     "output_type": "execute_result"
    }
   ],
   "source": [
    "name.sort()\n",
    "name"
   ]
  },
  {
   "cell_type": "code",
   "execution_count": null,
   "id": "f35357ce-9acb-4260-8b80-c511f955407f",
   "metadata": {},
   "outputs": [],
   "source": []
  },
  {
   "cell_type": "code",
   "execution_count": null,
   "id": "db92dffd-6e20-4e8a-aae2-eb351ccc6f99",
   "metadata": {},
   "outputs": [],
   "source": []
  },
  {
   "cell_type": "code",
   "execution_count": null,
   "id": "24e8c8b7-5a55-43a8-bf8f-492a861a2717",
   "metadata": {},
   "outputs": [],
   "source": []
  }
 ],
 "metadata": {
  "kernelspec": {
   "display_name": "Python 3 (ipykernel)",
   "language": "python",
   "name": "python3"
  },
  "language_info": {
   "codemirror_mode": {
    "name": "ipython",
    "version": 3
   },
   "file_extension": ".py",
   "mimetype": "text/x-python",
   "name": "python",
   "nbconvert_exporter": "python",
   "pygments_lexer": "ipython3",
   "version": "3.11.7"
  }
 },
 "nbformat": 4,
 "nbformat_minor": 5
}
