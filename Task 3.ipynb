{
 "cells": [
  {
   "cell_type": "markdown",
   "id": "147e5e66-ba3c-437d-8772-d595037288ef",
   "metadata": {},
   "source": [
    "# Python Dictionary Methods"
   ]
  },
  {
   "cell_type": "markdown",
   "id": "a1b25a09-1d65-48e4-a993-d9f10dbd5043",
   "metadata": {},
   "source": [
    "## clear()"
   ]
  },
  {
   "cell_type": "code",
   "execution_count": 8,
   "id": "2f38029b-1ece-4601-8b03-5d6fc27163f3",
   "metadata": {},
   "outputs": [
    {
     "name": "stdout",
     "output_type": "stream",
     "text": [
      "{'name': 'bhisma', 'age': '25', 'colour': 'fair'}\n",
      "{}\n"
     ]
    }
   ],
   "source": [
    "inf = {\n",
    "    'name' : 'bhisma',\n",
    "    'age' : '25',\n",
    "    'colour' : 'fair' \n",
    "}\n",
    "print(inf)\n",
    "\n",
    "inf.clear()  \n",
    "\n",
    "print(inf)\n"
   ]
  },
  {
   "cell_type": "code",
   "execution_count": null,
   "id": "e99ccda8-6a0b-47bd-b1f0-21afef67ea99",
   "metadata": {},
   "outputs": [],
   "source": []
  },
  {
   "cell_type": "markdown",
   "id": "72144144-8d91-4bd3-86fc-f4c0bdeb926b",
   "metadata": {},
   "source": [
    "## copy()"
   ]
  },
  {
   "cell_type": "code",
   "execution_count": 23,
   "id": "f434dd9f-aec9-422d-b303-5b76288faae3",
   "metadata": {},
   "outputs": [
    {
     "name": "stdout",
     "output_type": "stream",
     "text": [
      "{'name': 'apple', 'colour': 'red', 'price': 100}\n"
     ]
    }
   ],
   "source": [
    "fruit = {\n",
    "    'name':'apple',\n",
    "    'colour': 'red',\n",
    "    'price' : 100\n",
    "}\n",
    "\n",
    "fr = fruit.copy()\n",
    "\n",
    "print (fr)"
   ]
  },
  {
   "cell_type": "code",
   "execution_count": null,
   "id": "14adf1a1-c581-4e5f-9b58-d80c14ed0dd0",
   "metadata": {},
   "outputs": [],
   "source": []
  },
  {
   "cell_type": "markdown",
   "id": "ebf9cbd5-cac7-4473-9e10-89256b01815c",
   "metadata": {},
   "source": [
    "## fromkeys()"
   ]
  },
  {
   "cell_type": "code",
   "execution_count": 25,
   "id": "94ded717-0350-4517-ab7e-a7bb1d1e0bee",
   "metadata": {},
   "outputs": [
    {
     "name": "stdout",
     "output_type": "stream",
     "text": [
      "{'s1': 2, 's2': 2, 's3': 2}\n"
     ]
    }
   ],
   "source": [
    "x = ('s1','s2','s3')\n",
    "y = 2\n",
    "\n",
    "result = dict.fromkeys(x,y)\n",
    "\n",
    "print (result)"
   ]
  },
  {
   "cell_type": "code",
   "execution_count": null,
   "id": "d5820b9d-d6e2-4c07-974a-1b06fa02c31f",
   "metadata": {},
   "outputs": [],
   "source": []
  },
  {
   "cell_type": "markdown",
   "id": "90b175ec-f648-4550-ad5a-c46e2989a813",
   "metadata": {},
   "source": [
    "## get()"
   ]
  },
  {
   "cell_type": "code",
   "execution_count": 27,
   "id": "4c1cb828-c13d-410f-b0d9-a286f8df8a45",
   "metadata": {},
   "outputs": [
    {
     "name": "stdout",
     "output_type": "stream",
     "text": [
      "xt\n"
     ]
    }
   ],
   "source": [
    "car ={\n",
    "    'name' : 'tiago',\n",
    "    'model' : 'xt',\n",
    "    'year' : 2018\n",
    "}\n",
    "\n",
    "cr = car.get('model')\n",
    "\n",
    "print(cr)"
   ]
  },
  {
   "cell_type": "code",
   "execution_count": null,
   "id": "eb41599f-6f19-4e6d-ab49-5f640dc98834",
   "metadata": {},
   "outputs": [],
   "source": []
  },
  {
   "cell_type": "markdown",
   "id": "3b0c3de3-6fd6-4c51-a964-7feeb850675c",
   "metadata": {},
   "source": [
    "## items"
   ]
  },
  {
   "cell_type": "code",
   "execution_count": 29,
   "id": "5eae267a-e20d-4ab0-8b2b-8a0fb2d035fd",
   "metadata": {},
   "outputs": [
    {
     "name": "stdout",
     "output_type": "stream",
     "text": [
      "dict_items([('name', 'orient'), ('model', 'dlx'), ('price', 1200)])\n"
     ]
    }
   ],
   "source": [
    "fan = {\n",
    "    'name' : 'orient',\n",
    "    'model' : 'dlx',\n",
    "    'price' : 1200\n",
    "}\n",
    "\n",
    "fan2 = fan.items()\n",
    "\n",
    "print (fan2)"
   ]
  },
  {
   "cell_type": "code",
   "execution_count": null,
   "id": "6d36e8cb-a853-477d-9d07-0ea99a5f465f",
   "metadata": {},
   "outputs": [],
   "source": []
  },
  {
   "cell_type": "markdown",
   "id": "caab9846-748a-4bf3-845a-4f57c78c8d0f",
   "metadata": {},
   "source": [
    "## keys "
   ]
  },
  {
   "cell_type": "code",
   "execution_count": 31,
   "id": "2ec82f89-f6e8-4a25-8acd-9cc1d7bda6cb",
   "metadata": {},
   "outputs": [
    {
     "name": "stdout",
     "output_type": "stream",
     "text": [
      "dict_keys(['name', 'model', 'price'])\n"
     ]
    }
   ],
   "source": [
    "fan = {\n",
    "    'name' : 'orient',\n",
    "    'model' : 'dlx',\n",
    "    'price' : 1200\n",
    "}\n",
    "\n",
    "fan2 = fan.keys()\n",
    "\n",
    "print (fan2)"
   ]
  },
  {
   "cell_type": "code",
   "execution_count": null,
   "id": "4d9ba935-2153-44aa-8347-f105a971ed5d",
   "metadata": {},
   "outputs": [],
   "source": []
  },
  {
   "cell_type": "markdown",
   "id": "501ad7c6-4321-4c2f-a661-c1ba61e8608c",
   "metadata": {},
   "source": [
    "## pop"
   ]
  },
  {
   "cell_type": "code",
   "execution_count": 33,
   "id": "410aa742-469d-4536-b262-69ad9afaf340",
   "metadata": {},
   "outputs": [
    {
     "name": "stdout",
     "output_type": "stream",
     "text": [
      "{'name': 'enclave', 'price': 4000000}\n"
     ]
    }
   ],
   "source": [
    "house ={\n",
    "    'name' : 'enclave',\n",
    "    'size' : '2bhk',\n",
    "    'price' : 4000000\n",
    "}\n",
    "\n",
    "house.pop('size')\n",
    "print (house)"
   ]
  },
  {
   "cell_type": "code",
   "execution_count": null,
   "id": "a9eddc0e-a25d-4438-ad03-ee7cafc95ae1",
   "metadata": {},
   "outputs": [],
   "source": []
  },
  {
   "cell_type": "markdown",
   "id": "994c7932-fe88-4448-917b-1018d286c733",
   "metadata": {},
   "source": [
    "## popitems"
   ]
  },
  {
   "cell_type": "code",
   "execution_count": 37,
   "id": "c5765be8-2653-464e-8974-074d106b8aa9",
   "metadata": {},
   "outputs": [
    {
     "name": "stdout",
     "output_type": "stream",
     "text": [
      "{'sub': 'dss', 'fac': 'dolly'}\n"
     ]
    }
   ],
   "source": [
    "civil ={\n",
    "    'sub' : 'dss',\n",
    "    'fac' : 'dolly',\n",
    "    'lec time' : '11am'\n",
    "} \n",
    "civil.popitem()\n",
    "print (civil)"
   ]
  },
  {
   "cell_type": "code",
   "execution_count": null,
   "id": "d0e8e6bf-97eb-460c-83d7-ee530f977e93",
   "metadata": {},
   "outputs": [],
   "source": []
  },
  {
   "cell_type": "markdown",
   "id": "e440abb5-e320-4ed0-9a33-41f095189735",
   "metadata": {},
   "source": [
    "## setdefault"
   ]
  },
  {
   "cell_type": "code",
   "execution_count": 45,
   "id": "32b9f1c6-1047-4fc5-95d4-f7c68bf1399b",
   "metadata": {},
   "outputs": [
    {
     "name": "stdout",
     "output_type": "stream",
     "text": [
      "dolly\n"
     ]
    }
   ],
   "source": [
    "civil ={\n",
    "    'sub' : 'dss',\n",
    "    'fac' : 'dolly',\n",
    "    'lec time' : '11am'\n",
    "} \n",
    "\n",
    "civil2 = civil.setdefault('fac','bill')\n",
    "print (civil2)"
   ]
  },
  {
   "cell_type": "code",
   "execution_count": null,
   "id": "9e0f7f6b-e373-492a-a1a9-a6b50b6ae40d",
   "metadata": {},
   "outputs": [],
   "source": []
  },
  {
   "cell_type": "markdown",
   "id": "a1eed386-6bc1-47ed-9229-3d229d106963",
   "metadata": {},
   "source": [
    "## update"
   ]
  },
  {
   "cell_type": "code",
   "execution_count": 47,
   "id": "0b87e333-1514-410f-900e-91ded9d0066c",
   "metadata": {},
   "outputs": [
    {
     "name": "stdout",
     "output_type": "stream",
     "text": [
      "{'sub': 'dss', 'fac': 'dolly', 'lec time': '11am', 'software': 'autocad'}\n"
     ]
    }
   ],
   "source": [
    "civil ={\n",
    "    'sub' : 'dss',\n",
    "    'fac' : 'dolly',\n",
    "    'lec time' : '11am'\n",
    "} \n",
    "\n",
    "civil.update({'software':'autocad'})\n",
    "print(civil)"
   ]
  },
  {
   "cell_type": "code",
   "execution_count": null,
   "id": "104ab45b-5e41-42dd-8623-06b4719bc4b5",
   "metadata": {},
   "outputs": [],
   "source": []
  },
  {
   "cell_type": "markdown",
   "id": "2394d937-ff89-4e2e-a12a-585933d4f38d",
   "metadata": {},
   "source": [
    "## values"
   ]
  },
  {
   "cell_type": "code",
   "execution_count": 51,
   "id": "b71fc766-8d16-4373-9f53-f37b8ff07e33",
   "metadata": {},
   "outputs": [
    {
     "name": "stdout",
     "output_type": "stream",
     "text": [
      "dict_values(['dss', 'dolly', '11am'])\n"
     ]
    }
   ],
   "source": [
    "civil ={\n",
    "    'sub' : 'dss',\n",
    "    'fac' : 'dolly',\n",
    "    'lec time' : '11am'\n",
    "} \n",
    "\n",
    "civil2= civil.values()\n",
    "print (civil2)"
   ]
  },
  {
   "cell_type": "code",
   "execution_count": null,
   "id": "7a9f3916-b049-4c5c-9ed6-0ac0a8636eb7",
   "metadata": {},
   "outputs": [],
   "source": []
  },
  {
   "cell_type": "code",
   "execution_count": null,
   "id": "7ac3110b-0661-42b1-823a-ac93991df7dd",
   "metadata": {},
   "outputs": [],
   "source": []
  },
  {
   "cell_type": "markdown",
   "id": "4e0047cb-821a-4e9a-94e9-e77164be213e",
   "metadata": {},
   "source": [
    "# Python Tuple Methods"
   ]
  },
  {
   "cell_type": "markdown",
   "id": "a0f27c96-445d-4dbd-9246-25c995c1b420",
   "metadata": {},
   "source": [
    "## count "
   ]
  },
  {
   "cell_type": "code",
   "execution_count": 61,
   "id": "18f04234-d0ff-4dda-b53c-291f414a8770",
   "metadata": {},
   "outputs": [
    {
     "name": "stdout",
     "output_type": "stream",
     "text": [
      "2\n"
     ]
    }
   ],
   "source": [
    "name = 'arjun','bhim','krishna','abhimanu','arjun','ramji'\n",
    "\n",
    "result = name.count('arjun')\n",
    "\n",
    "print(result)\n"
   ]
  },
  {
   "cell_type": "markdown",
   "id": "4dfe27b1-824d-4402-8471-35f6a256d156",
   "metadata": {},
   "source": [
    "## index"
   ]
  },
  {
   "cell_type": "code",
   "execution_count": 63,
   "id": "0220bad3-9c5d-4d74-8984-88eaae524ca6",
   "metadata": {},
   "outputs": [
    {
     "name": "stdout",
     "output_type": "stream",
     "text": [
      "3\n"
     ]
    }
   ],
   "source": [
    "num = (1,2,3,4,5,9,8,7,45,55)\n",
    "\n",
    "result = num.index(4)\n",
    "\n",
    "print(result)"
   ]
  },
  {
   "cell_type": "code",
   "execution_count": null,
   "id": "b2e7b074-1289-449e-ae96-5aa1ae0f8d0b",
   "metadata": {},
   "outputs": [],
   "source": []
  }
 ],
 "metadata": {
  "kernelspec": {
   "display_name": "Python 3 (ipykernel)",
   "language": "python",
   "name": "python3"
  },
  "language_info": {
   "codemirror_mode": {
    "name": "ipython",
    "version": 3
   },
   "file_extension": ".py",
   "mimetype": "text/x-python",
   "name": "python",
   "nbconvert_exporter": "python",
   "pygments_lexer": "ipython3",
   "version": "3.11.7"
  }
 },
 "nbformat": 4,
 "nbformat_minor": 5
}
