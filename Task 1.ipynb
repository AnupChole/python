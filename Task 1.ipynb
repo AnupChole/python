{
 "cells": [
  {
   "cell_type": "code",
   "execution_count": null,
   "id": "7749e519-5fac-4374-9b6a-c6db62c0706b",
   "metadata": {},
   "outputs": [],
   "source": [
    "# capitalize()"
   ]
  },
  {
   "cell_type": "code",
   "execution_count": 6,
   "id": "b48341c0-e543-43dd-b356-2bcf0b83b03d",
   "metadata": {},
   "outputs": [
    {
     "name": "stdout",
     "output_type": "stream",
     "text": [
      "Hello, and welcome to my world.\n"
     ]
    }
   ],
   "source": [
    "val = 'hello, and welcome to my world.'\n",
    "\n",
    "c = val.capitalize()\n",
    "\n",
    "print (c)"
   ]
  },
  {
   "cell_type": "code",
   "execution_count": null,
   "id": "827ce625-8bc0-40fb-b957-6ce01479a757",
   "metadata": {},
   "outputs": [],
   "source": [
    "# casefold()"
   ]
  },
  {
   "cell_type": "code",
   "execution_count": 8,
   "id": "46559c69-c79a-4f11-b8ff-694b8d7cf440",
   "metadata": {},
   "outputs": [
    {
     "name": "stdout",
     "output_type": "stream",
     "text": [
      "hello, and welcome to my world!\n"
     ]
    }
   ],
   "source": [
    "val = \"Hello, And Welcome To My World!\"\n",
    "\n",
    "c = val.casefold()\n",
    "\n",
    "print(c)"
   ]
  },
  {
   "cell_type": "code",
   "execution_count": null,
   "id": "074675c1-ab89-41fe-8676-9c045eb9465f",
   "metadata": {},
   "outputs": [],
   "source": [
    "# center()"
   ]
  },
  {
   "cell_type": "code",
   "execution_count": 3,
   "id": "82e1aa55-bd9a-4630-97c9-e0a2826f604c",
   "metadata": {},
   "outputs": [
    {
     "name": "stdout",
     "output_type": "stream",
     "text": [
      "c=       banana       \n"
     ]
    }
   ],
   "source": [
    "val = \"banana\"\n",
    "\n",
    "c = val.center(20)\n",
    "\n",
    "print(f'c={c}')"
   ]
  },
  {
   "cell_type": "code",
   "execution_count": null,
   "id": "a2c6807a-a136-41cf-a067-4ff4f1d97281",
   "metadata": {},
   "outputs": [],
   "source": [
    "# count()"
   ]
  },
  {
   "cell_type": "code",
   "execution_count": 11,
   "id": "27249a76-955e-419a-af23-d42f234eaca6",
   "metadata": {},
   "outputs": [
    {
     "name": "stdout",
     "output_type": "stream",
     "text": [
      "2\n"
     ]
    }
   ],
   "source": [
    "com = 'Nagpur is good but I Like my home town more than Nagpur.'\n",
    "\n",
    "p = com.count('Nagpur')\n",
    "\n",
    "print(p)"
   ]
  },
  {
   "cell_type": "code",
   "execution_count": 18,
   "id": "c168bf14-9873-474d-8593-a840aaa2ee58",
   "metadata": {},
   "outputs": [
    {
     "name": "stdout",
     "output_type": "stream",
     "text": [
      "b'My name is St\\xc3\\xa5le'\n"
     ]
    }
   ],
   "source": [
    "# encode()\n",
    "val = \"My name is Ståle\"\n",
    "\n",
    "e= val.encode()\n",
    "\n",
    "print(e)    "
   ]
  },
  {
   "cell_type": "code",
   "execution_count": null,
   "id": "7214fd25-c650-4723-9ae2-0b36ae3d8891",
   "metadata": {},
   "outputs": [],
   "source": [
    "# endswith()"
   ]
  },
  {
   "cell_type": "code",
   "execution_count": 17,
   "id": "3b967499-be3c-49ab-a4e8-77299d1c5c19",
   "metadata": {},
   "outputs": [
    {
     "name": "stdout",
     "output_type": "stream",
     "text": [
      "True\n"
     ]
    }
   ],
   "source": [
    "val = \"Hello, welcome to my world!\"\n",
    "\n",
    "v = val.endswith(\"!\")\n",
    "\n",
    "print(v)"
   ]
  },
  {
   "cell_type": "code",
   "execution_count": 21,
   "id": "193f090a-edc7-41ed-8752-d26208a73b38",
   "metadata": {},
   "outputs": [],
   "source": [
    "# expandtabs()"
   ]
  },
  {
   "cell_type": "code",
   "execution_count": null,
   "id": "6e39aa76-025e-40fe-bcec-3e5a7bcb7a23",
   "metadata": {},
   "outputs": [],
   "source": []
  },
  {
   "cell_type": "code",
   "execution_count": 20,
   "id": "99db0fdf-7648-4efc-9f83-bd4fab30b394",
   "metadata": {},
   "outputs": [
    {
     "name": "stdout",
     "output_type": "stream",
     "text": [
      "7\n"
     ]
    }
   ],
   "source": [
    "# find()\n",
    "val = \"Hello, welcome to my world.\"\n",
    "\n",
    "f = val.find(\"welcome\")\n",
    "\n",
    "print(f)"
   ]
  },
  {
   "cell_type": "code",
   "execution_count": null,
   "id": "5fd77c7c-d119-4db8-b887-0d966e20223b",
   "metadata": {},
   "outputs": [],
   "source": [
    "# format()"
   ]
  },
  {
   "cell_type": "code",
   "execution_count": 25,
   "id": "933b7d84-8f55-40bb-9dfb-0e40766617ae",
   "metadata": {},
   "outputs": [
    {
     "name": "stdout",
     "output_type": "stream",
     "text": [
      "For only 49.00 dollars!\n"
     ]
    }
   ],
   "source": [
    "val  = \"For only {price:.2f} dollars!\"\n",
    "print(val.format(price = 49))"
   ]
  },
  {
   "cell_type": "code",
   "execution_count": 22,
   "id": "c497d513-3733-4302-9678-053d8e6e46b3",
   "metadata": {},
   "outputs": [
    {
     "name": "stdout",
     "output_type": "stream",
     "text": [
      "7\n"
     ]
    }
   ],
   "source": [
    "# index()\n",
    "val = \"Hello, welcome to my world.\"\n",
    "\n",
    "i = val.index(\"welcome\")\n",
    "\n",
    "print(i)"
   ]
  },
  {
   "cell_type": "code",
   "execution_count": null,
   "id": "7e2697d8-2b44-4ec5-b3bd-4f7bb2e2dc43",
   "metadata": {},
   "outputs": [],
   "source": [
    "# isalnum() "
   ]
  },
  {
   "cell_type": "code",
   "execution_count": 29,
   "id": "ed8ed2f6-e079-4a57-81e4-aaacd9d1fb90",
   "metadata": {},
   "outputs": [
    {
     "name": "stdout",
     "output_type": "stream",
     "text": [
      "True\n"
     ]
    }
   ],
   "source": [
    "val = 'fruit15'\n",
    "val2 = val.isalnum()\n",
    "print (val2)"
   ]
  },
  {
   "cell_type": "code",
   "execution_count": null,
   "id": "d0728e54-7e57-49cb-8970-850d335c5749",
   "metadata": {},
   "outputs": [],
   "source": [
    "# isalpha()"
   ]
  },
  {
   "cell_type": "code",
   "execution_count": 31,
   "id": "b5765ac1-1686-4d67-9e08-b379e453d5a8",
   "metadata": {},
   "outputs": [
    {
     "name": "stdout",
     "output_type": "stream",
     "text": [
      "True\n"
     ]
    }
   ],
   "source": [
    "name = \"CompanyX\"\n",
    "\n",
    "name2 = name.isalpha()\n",
    "\n",
    "print(name2)"
   ]
  },
  {
   "cell_type": "code",
   "execution_count": 24,
   "id": "5bff7f96-db4c-48c0-8b6d-a0f19360ee59",
   "metadata": {},
   "outputs": [
    {
     "name": "stdout",
     "output_type": "stream",
     "text": [
      "True\n"
     ]
    }
   ],
   "source": [
    "# isdigit()\n",
    "val = \"50800\"\n",
    "\n",
    "i = val.isdigit()\n",
    "\n",
    "print(i)"
   ]
  },
  {
   "cell_type": "code",
   "execution_count": null,
   "id": "b512daaf-76f2-4841-a0c7-8b6479884ee5",
   "metadata": {},
   "outputs": [],
   "source": [
    "# islower()"
   ]
  },
  {
   "cell_type": "code",
   "execution_count": 35,
   "id": "76e41fe7-8f5d-4357-b63c-82bca5dc082c",
   "metadata": {},
   "outputs": [
    {
     "name": "stdout",
     "output_type": "stream",
     "text": [
      "False\n"
     ]
    }
   ],
   "source": [
    "val = \"hello World!\"\n",
    "\n",
    "x = val.islower()\n",
    "\n",
    "print(x)\n"
   ]
  },
  {
   "cell_type": "code",
   "execution_count": null,
   "id": "16fdcbf1-0fed-4741-8fb7-90166d8b287a",
   "metadata": {},
   "outputs": [],
   "source": [
    "# isnumeric()"
   ]
  },
  {
   "cell_type": "code",
   "execution_count": 39,
   "id": "56c95574-1515-48dc-bab2-17ce5fb901a5",
   "metadata": {},
   "outputs": [
    {
     "name": "stdout",
     "output_type": "stream",
     "text": [
      "False\n"
     ]
    }
   ],
   "source": [
    "val = \"56k543\"\n",
    "\n",
    "x = val.isnumeric()\n",
    "\n",
    "print(x)"
   ]
  },
  {
   "cell_type": "code",
   "execution_count": null,
   "id": "99c61418-ad25-4c48-bb3b-b1a01a29fe0f",
   "metadata": {},
   "outputs": [],
   "source": [
    "# isspace()"
   ]
  },
  {
   "cell_type": "code",
   "execution_count": 43,
   "id": "dad18d0c-37fa-4188-bb2b-a68c93b4c18f",
   "metadata": {},
   "outputs": [
    {
     "name": "stdout",
     "output_type": "stream",
     "text": [
      "True\n"
     ]
    }
   ],
   "source": [
    "val = \"  \"\n",
    "\n",
    "x = val.isspace()\n",
    "\n",
    "print(x)"
   ]
  },
  {
   "cell_type": "code",
   "execution_count": null,
   "id": "49b6f3be-55af-435a-ac86-b0b05c1e4bc8",
   "metadata": {},
   "outputs": [],
   "source": [
    "# isupper()"
   ]
  },
  {
   "cell_type": "code",
   "execution_count": 45,
   "id": "1b69374f-35a9-4a61-a8c6-ad0c4952cebd",
   "metadata": {},
   "outputs": [
    {
     "name": "stdout",
     "output_type": "stream",
     "text": [
      "True\n"
     ]
    }
   ],
   "source": [
    "val = \"THIS IS NOW!\"\n",
    "\n",
    "x = val.isupper()\n",
    "\n",
    "print(x)"
   ]
  },
  {
   "cell_type": "code",
   "execution_count": 47,
   "id": "e9ffae47-2f59-4fdc-80ec-955fa9ede435",
   "metadata": {},
   "outputs": [
    {
     "name": "stdout",
     "output_type": "stream",
     "text": [
      "John&Peter&Vicky\n"
     ]
    }
   ],
   "source": [
    "# join()\n",
    "val = (\"John\", \"Peter\", \"Vicky\")\n",
    "\n",
    "x = \"&\".join(val)\n",
    "\n",
    "print(x)"
   ]
  },
  {
   "cell_type": "code",
   "execution_count": 30,
   "id": "d7d01602-c0f8-4fc7-b251-9b5ac6f7158b",
   "metadata": {},
   "outputs": [
    {
     "name": "stdout",
     "output_type": "stream",
     "text": [
      "hello my friends\n"
     ]
    }
   ],
   "source": [
    "# lower()\n",
    "val = \"Hello my FRIENDS\"\n",
    "\n",
    "l = val.lower()\n",
    "\n",
    "print(l)"
   ]
  },
  {
   "cell_type": "code",
   "execution_count": null,
   "id": "70f5f75b-a3bd-4b1c-a161-4a36f836f97c",
   "metadata": {},
   "outputs": [],
   "source": [
    "# partition()"
   ]
  },
  {
   "cell_type": "code",
   "execution_count": 51,
   "id": "397004a0-a89e-4a65-b583-868ad3a14ebe",
   "metadata": {},
   "outputs": [
    {
     "name": "stdout",
     "output_type": "stream",
     "text": [
      "('our ', 'nagpur', ' have aims hospital now.')\n"
     ]
    }
   ],
   "source": [
    "val = 'our nagpur have aims hospital now.'\n",
    "val2 = val.partition('nagpur')\n",
    "print (val2)"
   ]
  },
  {
   "cell_type": "code",
   "execution_count": 61,
   "id": "a6ce2801-76d3-46d7-a2bd-6f93f2a3afe1",
   "metadata": {},
   "outputs": [
    {
     "name": "stdout",
     "output_type": "stream",
     "text": [
      "I like apples\n"
     ]
    }
   ],
   "source": [
    "# replace()\n",
    "val = \"I like bananas\"\n",
    "\n",
    "v = val.replace(\"bananas\", \"apples\")\n",
    "\n",
    "print(v)"
   ]
  },
  {
   "cell_type": "code",
   "execution_count": null,
   "id": "8a24a3b7-f197-41f1-8e42-f07112bed4ac",
   "metadata": {},
   "outputs": [],
   "source": [
    "# split()"
   ]
  },
  {
   "cell_type": "code",
   "execution_count": 67,
   "id": "3d1538d6-6346-482a-b28d-6902c63cf02f",
   "metadata": {},
   "outputs": [
    {
     "data": {
      "text/plain": [
       "['arc', 'have', 'many', 'student', 'who', 'join', 'only', 'for', 'placement']"
      ]
     },
     "execution_count": 67,
     "metadata": {},
     "output_type": "execute_result"
    }
   ],
   "source": [
    "val = 'arc have many student who join only for placement'\n",
    "x = val.split()\n",
    "x"
   ]
  },
  {
   "cell_type": "code",
   "execution_count": null,
   "id": "398dc962-2cbf-4c9e-82a6-2d56948331e9",
   "metadata": {},
   "outputs": [],
   "source": [
    "# splitlines() "
   ]
  },
  {
   "cell_type": "code",
   "execution_count": 75,
   "id": "3d85c8cd-74eb-4b69-a65f-12318ba3ff4b",
   "metadata": {},
   "outputs": [
    {
     "data": {
      "text/plain": [
       "['nagpur is a orange city /mand also famous for tiger']"
      ]
     },
     "execution_count": 75,
     "metadata": {},
     "output_type": "execute_result"
    }
   ],
   "source": [
    "val = 'nagpur is a orange city /mand also famous for tiger'\n",
    "v = val.splitlines()\n",
    "v"
   ]
  },
  {
   "cell_type": "code",
   "execution_count": 77,
   "id": "89b549df-172b-4fb5-befc-f9288ba2c9a3",
   "metadata": {},
   "outputs": [],
   "source": [
    "# strip()"
   ]
  },
  {
   "cell_type": "code",
   "execution_count": 81,
   "id": "7220301b-8353-459f-9085-6970010acc8a",
   "metadata": {},
   "outputs": [
    {
     "name": "stdout",
     "output_type": "stream",
     "text": [
      "orange city nagpur is famous for orange fruit\n"
     ]
    }
   ],
   "source": [
    "val = \" nagpur\"\n",
    "v = val.strip()\n",
    "print ('orange city' ,v, 'is famous for orange fruit' )"
   ]
  },
  {
   "cell_type": "code",
   "execution_count": null,
   "id": "76b0ba9e-fe3b-47a9-9713-9a94fa2576eb",
   "metadata": {},
   "outputs": [],
   "source": [
    "# swapcase()"
   ]
  },
  {
   "cell_type": "code",
   "execution_count": 85,
   "id": "8e561f58-cdaa-428d-ac6d-8aa4c7fecdf4",
   "metadata": {},
   "outputs": [
    {
     "data": {
      "text/plain": [
       "' nAUPUR hAVE aSIA bIG WORLD TRAdE CENTEr'"
      ]
     },
     "execution_count": 85,
     "metadata": {},
     "output_type": "execute_result"
    }
   ],
   "source": [
    "val = ' Naupur Have Asia Big world traDe centeR'\n",
    "v = val.swapcase()\n",
    "v"
   ]
  },
  {
   "cell_type": "code",
   "execution_count": null,
   "id": "327ecc58-c931-4016-8ac6-db5cd8f68a0a",
   "metadata": {},
   "outputs": [],
   "source": [
    "# title()"
   ]
  },
  {
   "cell_type": "code",
   "execution_count": 91,
   "id": "ba82c7d2-aea3-43d8-9ae2-544aafa542e3",
   "metadata": {},
   "outputs": [
    {
     "data": {
      "text/plain": [
       "' Hello Orange City Nagpur '"
      ]
     },
     "execution_count": 91,
     "metadata": {},
     "output_type": "execute_result"
    }
   ],
   "source": [
    "val = ' hello orange city nagpur '\n",
    "v = val.title()\n",
    "v"
   ]
  },
  {
   "cell_type": "code",
   "execution_count": 93,
   "id": "d85c06e8-581d-46cd-994e-d69cbedc351d",
   "metadata": {},
   "outputs": [],
   "source": [
    "# upper()"
   ]
  },
  {
   "cell_type": "code",
   "execution_count": 96,
   "id": "060c7b76-c226-48b1-973f-0257ea049969",
   "metadata": {},
   "outputs": [
    {
     "data": {
      "text/plain": [
       "'HELLO ORANGE CITY PEOPLE'"
      ]
     },
     "execution_count": 96,
     "metadata": {},
     "output_type": "execute_result"
    }
   ],
   "source": [
    "val = 'hello orange city people'\n",
    "v = val.upper()\n",
    "v"
   ]
  },
  {
   "cell_type": "code",
   "execution_count": 98,
   "id": "4cd8942e-a925-47a5-b32f-2b62d70380d7",
   "metadata": {},
   "outputs": [],
   "source": [
    "# zfill()"
   ]
  },
  {
   "cell_type": "code",
   "execution_count": 102,
   "id": "a09648a6-c6c5-4886-b910-17551f8d00dd",
   "metadata": {},
   "outputs": [
    {
     "data": {
      "text/plain": [
       "'000000000000015'"
      ]
     },
     "execution_count": 102,
     "metadata": {},
     "output_type": "execute_result"
    }
   ],
   "source": [
    "val = '15'\n",
    "v = val.zfill(15)\n",
    "v"
   ]
  }
 ],
 "metadata": {
  "kernelspec": {
   "display_name": "Python 3 (ipykernel)",
   "language": "python",
   "name": "python3"
  },
  "language_info": {
   "codemirror_mode": {
    "name": "ipython",
    "version": 3
   },
   "file_extension": ".py",
   "mimetype": "text/x-python",
   "name": "python",
   "nbconvert_exporter": "python",
   "pygments_lexer": "ipython3",
   "version": "3.11.7"
  }
 },
 "nbformat": 4,
 "nbformat_minor": 5
}
